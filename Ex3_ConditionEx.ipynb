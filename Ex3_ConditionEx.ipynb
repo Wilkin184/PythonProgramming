{
  "nbformat": 4,
  "nbformat_minor": 0,
  "metadata": {
    "colab": {
      "name": "Ex3_ConditionEx.ipynb",
      "provenance": [],
      "include_colab_link": true
    },
    "kernelspec": {
      "name": "python3",
      "display_name": "Python 3"
    },
    "language_info": {
      "name": "python"
    }
  },
  "cells": [
    {
      "cell_type": "markdown",
      "metadata": {
        "id": "view-in-github",
        "colab_type": "text"
      },
      "source": [
        "<a href=\"https://colab.research.google.com/github/Wilkin184/PythonProgramming/blob/main/Ex3_ConditionEx.ipynb\" target=\"_parent\"><img src=\"https://colab.research.google.com/assets/colab-badge.svg\" alt=\"Open In Colab\"/></a>"
      ]
    },
    {
      "cell_type": "markdown",
      "source": [
        "Write a program that asks the user to enter a length in centimeters. If the user enters a negative length, the program should tell the user that the entry is invalid. Otherwise, the program should convert the length to inches and print out the result. There are 2.54 centimeters in an inch.\n"
      ],
      "metadata": {
        "id": "r9njLbxcvG0w"
      }
    },
    {
      "cell_type": "code",
      "source": [
        "length = input(\"enter length in centimeters: \")\n",
        "length = int(length)\n",
        "if (length < 0):\n",
        "  print(\"Invalid entry\")\n",
        "else:\n",
        "  print(length//2.54)"
      ],
      "metadata": {
        "id": "76EFWr1AvMy4",
        "outputId": "7bd20f35-21d6-43bd-9254-6d596fba9d22",
        "colab": {
          "base_uri": "https://localhost:8080/"
        }
      },
      "execution_count": 8,
      "outputs": [
        {
          "output_type": "stream",
          "name": "stdout",
          "text": [
            "enter length in centimeters: 55\n",
            "21.0\n"
          ]
        }
      ]
    },
    {
      "cell_type": "markdown",
      "source": [
        "Ask the user to enter a temperature in Celsius. The program should print a message based on the temperature:\n",
        "\n",
        "*   If the temperature is less than -273.15, print that the temperature is invalid because it is below absolute zero.\n",
        "*   If it is exactly -273.15, print that the temperature is absolute 0.\n",
        "*   If the temperature is between -273.15 and 0, print that the temperature is below freezing.\n",
        "*   If it is 0, print that the temperature is at the freezing point.\n",
        "*   If it is between 0 and 100, print that the temperature is in the normal range.\n",
        "*   If it is 100, print that the temperature is at the boiling point.\n",
        "*   If it is above 100, print that the temperature is above the boiling point."
      ],
      "metadata": {
        "id": "zvaDTmuhvNWJ"
      }
    },
    {
      "cell_type": "code",
      "source": [
        "temp = input(\"enter tempature in Celsius: \")\n",
        "temp =  float(temp)\n",
        "if temp < -273.15:\n",
        "  print(\"invalid tempature\")\n",
        "elif temp == -273.15:\n",
        "  print(\"tempature is absolute zero\")\n",
        "elif temp > -273.15 and temp < 0:\n",
        "  print(\"tempature is below freezing\")\n",
        "elif temp == 0:\n",
        "  print(\"tempature is at freezing point\")\n",
        "elif temp > 0 and temp < 100:\n",
        "  print(\"tempature is in normal range\")\n",
        "elif temp == 100:\n",
        "  print(\"tempature is at boiling point\")\n",
        "else:\n",
        "  print(\"tempature is above boiling point\")"
      ],
      "metadata": {
        "id": "UiCbUIcwvqxO",
        "outputId": "7faa9e67-8165-4846-ca45-7495757c040d",
        "colab": {
          "base_uri": "https://localhost:8080/"
        }
      },
      "execution_count": 11,
      "outputs": [
        {
          "output_type": "stream",
          "name": "stdout",
          "text": [
            "enter tempature in Celsius: 200\n",
            "tempature is above boiling point\n"
          ]
        }
      ]
    },
    {
      "cell_type": "markdown",
      "source": [
        "Write a program that asks the user how many credits they have taken. If they have taken 23 or less, print that the student is a freshman. If they have taken between 24 and 53, print that they are a sophomore. The range for juniors is 54 to 83, and for seniors it is 84 and over."
      ],
      "metadata": {
        "id": "hoczytNLvrnd"
      }
    },
    {
      "cell_type": "code",
      "source": [
        "credits = input(\"How many credits have you taken?: \")\n",
        "credits = int(credits)\n",
        "if credits <= 23:\n",
        "  print(\"You are a freshmen.\")\n",
        "elif credits >= 24 and credits <= 53:\n",
        "  print(\"You are a sophomore.\")\n",
        "elif credits >= 54 and credits <= 83:\n",
        "  print(\"You are a junior.\")\n",
        "else:\n",
        "  print(\"You are a senior.\")"
      ],
      "metadata": {
        "id": "r8_O-_zLvurf",
        "outputId": "d0705056-bae1-41d5-ca4d-00dbca3db0fc",
        "colab": {
          "base_uri": "https://localhost:8080/"
        }
      },
      "execution_count": 13,
      "outputs": [
        {
          "output_type": "stream",
          "name": "stdout",
          "text": [
            "How many credits have you taken?: 100\n",
            "You are a senior.\n"
          ]
        }
      ]
    },
    {
      "cell_type": "code",
      "source": [],
      "metadata": {
        "id": "MGvuAGfmGW0m"
      },
      "execution_count": null,
      "outputs": []
    }
  ]
}