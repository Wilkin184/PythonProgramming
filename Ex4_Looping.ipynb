{
  "cells": [
    {
      "cell_type": "markdown",
      "metadata": {
        "id": "view-in-github",
        "colab_type": "text"
      },
      "source": [
        "<a href=\"https://colab.research.google.com/github/Wilkin184/PythonProgramming/blob/main/Ex4_Looping.ipynb\" target=\"_parent\"><img src=\"https://colab.research.google.com/assets/colab-badge.svg\" alt=\"Open In Colab\"/></a>"
      ]
    },
    {
      "cell_type": "markdown",
      "metadata": {
        "id": "YeTHwB3EASGn"
      },
      "source": [
        "The exercises are extracted from A_Practical_Introduction_to_Python_Programming_Heinold.pdf"
      ]
    },
    {
      "cell_type": "markdown",
      "metadata": {
        "id": "wVOW5QDgAZ_R"
      },
      "source": [
        "Ex 1: Write a program that uses a while loop (not a for loop) to read through a string and print\n",
        "the characters of the string one-by-one on separate lines."
      ]
    },
    {
      "cell_type": "code",
      "execution_count": 7,
      "metadata": {
        "id": "77KGqP-sJJNh",
        "outputId": "126e8377-c437-498b-bdd7-c307f8515c05",
        "colab": {
          "base_uri": "https://localhost:8080/"
        }
      },
      "outputs": [
        {
          "output_type": "stream",
          "name": "stdout",
          "text": [
            "W\n",
            "i\n",
            "l\n",
            "k\n",
            "i\n",
            "n\n",
            "s\n",
            "o\n",
            "n\n"
          ]
        }
      ],
      "source": [
        "name = \"Wilkinson\"\n",
        "index = 0\n",
        "while index < len(name):\n",
        "    print(name[index])\n",
        "    index += 1"
      ]
    },
    {
      "cell_type": "markdown",
      "metadata": {
        "id": "5B-LyYV0AkCK"
      },
      "source": [
        "Ex 2: A good program will make sure that the data its users enter is valid. Write a program that\n",
        "asks the user for a weight and converts it from kilograms to pounds. Whenever the user\n",
        "enters a weight below 0, the program should tell them that their entry is invalid and then ask\n",
        "them again to enter a weight. [Hint: Use a while loop, not an if statement]."
      ]
    },
    {
      "cell_type": "code",
      "execution_count": 3,
      "metadata": {
        "id": "gpRZnsXjArkF",
        "outputId": "68241470-411f-4ad9-a728-20f73259fc38",
        "colab": {
          "base_uri": "https://localhost:8080/"
        }
      },
      "outputs": [
        {
          "output_type": "stream",
          "name": "stdout",
          "text": [
            "Give me a weight in kilograms: -1\n",
            "invalid weight, try again.\n",
            "Give me a weight in kilograms: 5\n",
            "the wheight in pounds is: 11.02\n"
          ]
        }
      ],
      "source": [
        "while True:\n",
        "  kilos = float(input(\"Give me a weight in kilograms: \"))\n",
        "  if kilos < 0:\n",
        "    print(\"invalid weight, try again.\")\n",
        "  else:\n",
        "    pounds = kilos * 2.20462\n",
        "    print(f\"the wheight in pounds is: {pounds:.2f}\")\n",
        "    break"
      ]
    },
    {
      "cell_type": "markdown",
      "metadata": {
        "id": "zQT0pCjRAsIK"
      },
      "source": [
        "Ex 3: Write a program that allows the user to enter any number of test scores. The user indicates\n",
        "they are done by entering in a negative number. Print how many of the scores are A’s (90 or\n",
        "above). Also print out the average"
      ]
    },
    {
      "cell_type": "code",
      "execution_count": 9,
      "metadata": {
        "id": "Gya-rvYUAviK",
        "outputId": "450b8323-6913-446f-9525-c6866d953ed9",
        "colab": {
          "base_uri": "https://localhost:8080/"
        }
      },
      "outputs": [
        {
          "output_type": "stream",
          "name": "stdout",
          "text": [
            "gimme your test scores, make it negative if you wanna stop: 90\n",
            "gimme your test scores, make it negative if you wanna stop: -1\n",
            "the number of 'A's you got is: 1\n",
            "your average is: 90.00\n"
          ]
        }
      ],
      "source": [
        "t_scores = []\n",
        "no_A = 0\n",
        "\n",
        "while True:\n",
        "  t_result = float(input(\"gimme your test scores, make it negative if you wanna stop: \"))\n",
        "  if t_result < 0:\n",
        "    break\n",
        "  t_scores.append(t_result)\n",
        "  if t_result >= 90:\n",
        "    no_A += 1\n",
        "\n",
        "if t_scores:\n",
        "  t_average = sum(t_scores) / len(t_scores)\n",
        "  print(f\"the number of 'A's you got is: {no_A}\")\n",
        "  print(f\"your average is: {t_average:.2f}\")\n",
        "else:\n",
        "  print(\"This isn't valid\")\n",
        "\n"
      ]
    },
    {
      "cell_type": "markdown",
      "metadata": {
        "id": "IHIWc5jHAwxY"
      },
      "source": [
        "Ex 4: Write a program that asks the user for a string and a letter. Using a for loop, the\n",
        "program should print the index of the first occurrence of that letter and a message if the\n",
        "string does not contain the letter."
      ]
    },
    {
      "cell_type": "code",
      "execution_count": 5,
      "metadata": {
        "id": "xSe0mtQ8A68M",
        "outputId": "f4b75541-12de-4453-84b1-5ea0e7868154",
        "colab": {
          "base_uri": "https://localhost:8080/"
        }
      },
      "outputs": [
        {
          "output_type": "stream",
          "name": "stdout",
          "text": [
            "give me a string: McCallister\n",
            "now give me a letter: w\n",
            "there's no 'w' in this string.\n"
          ]
        }
      ],
      "source": [
        "series = input(\"give me a string: \")\n",
        "chrctr = input(\"now give me a letter: \")\n",
        "\n",
        "index_found = False\n",
        "\n",
        "for index in range(len(series)):\n",
        "  if series[index] == chrctr:\n",
        "     index_found = index\n",
        "     break\n",
        "\n",
        "if index_found is not False:\n",
        "  print(f\"the first time you see the letter '{chrctr}' is at index {index_found}.\")\n",
        "else:\n",
        "  print(f\"there's no '{chrctr}' in this string.\")"
      ]
    },
    {
      "cell_type": "markdown",
      "metadata": {
        "id": "PfyUq4CnA8vk"
      },
      "source": [
        "Ex 5: Write a program in which you have a list that contains seven integers that can be 0 or 1. Find the first zero entry in the list and change it to a 1. If there are no zero entries, print a message saying so."
      ]
    },
    {
      "cell_type": "code",
      "execution_count": 16,
      "metadata": {
        "id": "jzliQA2xaWUc",
        "outputId": "da0a3c3f-0114-4398-f951-95b3e47cfe05",
        "colab": {
          "base_uri": "https://localhost:8080/"
        }
      },
      "outputs": [
        {
          "output_type": "stream",
          "name": "stdout",
          "text": [
            "there's no zero\n"
          ]
        }
      ],
      "source": [
        "integers = [1,1,1,1,1,1,1]\n",
        "found = False\n",
        "\n",
        "for index in range(len(integers)):\n",
        "  if integers[index] == 0:\n",
        "    integers[index] = 1\n",
        "    found = True\n",
        "    break\n",
        "\n",
        "if found == False:\n",
        "  print(\"there's no zero\")\n",
        "else:\n",
        "  print(integers)"
      ]
    }
  ],
  "metadata": {
    "colab": {
      "name": "Ex4_Looping.ipynb",
      "provenance": [],
      "include_colab_link": true
    },
    "kernelspec": {
      "display_name": "Python 3",
      "name": "python3"
    },
    "language_info": {
      "codemirror_mode": {
        "name": "ipython",
        "version": 3
      },
      "file_extension": ".py",
      "mimetype": "text/x-python",
      "name": "python",
      "nbconvert_exporter": "python",
      "pygments_lexer": "ipython3",
      "version": "3.12.1"
    }
  },
  "nbformat": 4,
  "nbformat_minor": 0
}