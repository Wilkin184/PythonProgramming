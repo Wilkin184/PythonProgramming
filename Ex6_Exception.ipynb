{
  "nbformat": 4,
  "nbformat_minor": 0,
  "metadata": {
    "colab": {
      "provenance": [],
      "authorship_tag": "ABX9TyNaS1Vnq0c2nYnI/8wmSp8w",
      "include_colab_link": true
    },
    "kernelspec": {
      "name": "python3",
      "display_name": "Python 3"
    },
    "language_info": {
      "name": "python"
    }
  },
  "cells": [
    {
      "cell_type": "markdown",
      "metadata": {
        "id": "view-in-github",
        "colab_type": "text"
      },
      "source": [
        "<a href=\"https://colab.research.google.com/github/Wilkin184/PythonProgramming/blob/main/Ex6_Exception.ipynb\" target=\"_parent\"><img src=\"https://colab.research.google.com/assets/colab-badge.svg\" alt=\"Open In Colab\"/></a>"
      ]
    },
    {
      "cell_type": "code",
      "execution_count": 5,
      "metadata": {
        "colab": {
          "base_uri": "https://localhost:8080/"
        },
        "id": "FkMh-8KGnAlD",
        "outputId": "442d3ef4-9542-4300-89fd-2ca5c1ed0ee3"
      },
      "outputs": [
        {
          "output_type": "execute_result",
          "data": {
            "text/plain": [
              "0"
            ]
          },
          "metadata": {},
          "execution_count": 5
        }
      ],
      "source": [
        "#Q1.1) Zero division error\n",
        "def myfunction(a,b):\n",
        "  try:\n",
        "    answer = a/b\n",
        "    return answer\n",
        "  except ZeroDivisionError:\n",
        "    return b\n",
        "\n",
        "#Call the function as follows:\n",
        "myfunction(2,0)\n",
        "\n"
      ]
    },
    {
      "cell_type": "code",
      "source": [
        "#Q1.2 Name Error\n",
        "\n",
        "def myfunction2(c):\n",
        "  try:\n",
        "    answer = a/c\n",
        "    return answer\n",
        "  except NameError:\n",
        "    answer = c\n",
        "    return answer\n",
        "\n",
        "# Call the function as follows:\n",
        "myfunction2(3)\n",
        "\n"
      ],
      "metadata": {
        "colab": {
          "base_uri": "https://localhost:8080/"
        },
        "id": "rQx3DwOEn3fL",
        "outputId": "15f27efb-0670-4a3d-bdc0-59ceae36e7b6"
      },
      "execution_count": 4,
      "outputs": [
        {
          "output_type": "execute_result",
          "data": {
            "text/plain": [
              "3"
            ]
          },
          "metadata": {},
          "execution_count": 4
        }
      ]
    },
    {
      "cell_type": "code",
      "source": [
        "#Q1.3 IndexError\n",
        "try:\n",
        "  a = [1, 2, 3]\n",
        "  for k in range(0,4):\n",
        "      print(a[k])\n",
        "except IndexError:\n",
        "  print(k)"
      ],
      "metadata": {
        "colab": {
          "base_uri": "https://localhost:8080/"
        },
        "id": "SrumjwvKqKra",
        "outputId": "f302104b-d743-4b07-87c1-cedb2325fe4c"
      },
      "execution_count": 3,
      "outputs": [
        {
          "output_type": "stream",
          "name": "stdout",
          "text": [
            "1\n",
            "2\n",
            "3\n",
            "3\n"
          ]
        }
      ]
    },
    {
      "cell_type": "code",
      "source": [
        "#Q1.4/Q2.1 Zero Division Error, Value Error\n",
        "try:\n",
        "  a = 1\n",
        "  b = int(input(\"Please enter a number to divide a\"))\n",
        "  a = a/b\n",
        "  print(\"Success a=\",a)\n",
        "except ZeroDivisionError:\n",
        "  print(\"Don't divide by zero, stupid.\")\n",
        "except ValueError:\n",
        "  print(\"That's not a number, stupid.\")"
      ],
      "metadata": {
        "colab": {
          "base_uri": "https://localhost:8080/"
        },
        "id": "YP9MqRX3q2LV",
        "outputId": "2ebd7200-90da-440b-ac0f-73272ade553f"
      },
      "execution_count": 2,
      "outputs": [
        {
          "output_type": "stream",
          "name": "stdout",
          "text": [
            "Please enter a number to divide a0\n",
            "Don't divide by zero, stupid.\n"
          ]
        }
      ]
    },
    {
      "cell_type": "code",
      "source": [
        "#Q2.2)\n",
        "try:\n",
        "  mylist = [2, 3, 5, -7, 8, 0]\n",
        "  idx = 0\n",
        "  b = 5\n",
        "  while idx<=6:\n",
        "      print('Iteration:', idx, mylist[idx]/b)\n",
        "      idx = idx+1\n",
        "      print('Iteration completed')\n",
        "except IndexError:\n",
        "  print('There is an index error somewhere...')"
      ],
      "metadata": {
        "colab": {
          "base_uri": "https://localhost:8080/"
        },
        "id": "R45FTlRgtU_v",
        "outputId": "36af4d6e-52d1-4f23-b904-53f81620267a"
      },
      "execution_count": 1,
      "outputs": [
        {
          "output_type": "stream",
          "name": "stdout",
          "text": [
            "Iteration: 0 0.4\n",
            "Iteration completed\n",
            "Iteration: 1 0.6\n",
            "Iteration completed\n",
            "Iteration: 2 1.0\n",
            "Iteration completed\n",
            "Iteration: 3 -1.4\n",
            "Iteration completed\n",
            "Iteration: 4 1.6\n",
            "Iteration completed\n",
            "Iteration: 5 0.0\n",
            "Iteration completed\n",
            "There is an index error somewhere...\n"
          ]
        }
      ]
    }
  ]
}